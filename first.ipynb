{
 "cells": [
  {
   "cell_type": "code",
   "execution_count": 12,
   "id": "ea8557c5-2d1b-423e-9751-4ee443ce230a",
   "metadata": {
    "vscode": {
     "languageId": "python"
    }
   },
   "outputs": [
    {
     "name": "stdout",
     "output_type": "stream",
     "text": [
      "[1, 2, 3, 4, 5]\n",
      "[1, 2, 3, 4, 5, 7, 8]\n",
      "[1, 2, 3, 4, 7, 8]\n",
      "[1, 2, 3, 4, 5, 7, 8]\n",
      "[1, 2, 3, 4, 5, 7, 6]\n"
     ]
    }
   ],
   "source": [
    "#operations on list\n",
    "lst=[1,2,3,4]\n",
    "#add one element at end of list\n",
    "lst.append(5)\n",
    "print(lst)\n",
    "#add more than one element at end of lsit \n",
    "lst.extend([7,8])\n",
    "print(lst)\n",
    "#delete element x\n",
    "lst.remove(5)\n",
    "print(lst)\n",
    "#insert at index i\n",
    "lst.insert(4,5)\n",
    "print(lst)\n",
    "#modify list\n",
    "lst[6]=6\n",
    "print(lst)"
   ]
  },
  {
   "cell_type": "code",
   "execution_count": 13,
   "id": "b6bab8f0-3675-4dbf-9b43-6b5a5a3a14ed",
   "metadata": {},
   "outputs": [
    {
     "name": "stdout",
     "output_type": "stream",
     "text": [
      "{'id': 1, 'name': 'Gaurav', 'Marks': [65, 75, 85, 90]}\n",
      "{'id': 1, 'name': 'Gaurav', 'Marks': [65, 75, 85, 90], 'age': 20}\n",
      "Marks in dictionary  [65, 75, 85, 90]\n",
      "Items in dictionary  dict_items([('id', 1), ('name', 'Gaurav'), ('Marks', [65, 75, 85, 90]), ('age', 20)])\n",
      "Keys in dictionary  dict_keys(['id', 'name', 'Marks', 'age'])\n",
      "Values in dictionary  dict_values([1, 'Gaurav', [65, 75, 85, 90], 20])\n",
      "{'name': 'Gaurav', 'Marks': [65, 75, 85, 90], 'age': 20}\n",
      "{'name': 'Rajat', 'Marks': [65, 75, 85, 90], 'age': 20}\n"
     ]
    }
   ],
   "source": [
    "#operations on dictionary\n",
    "dict={\"id\":1,\n",
    "     \"name\":\"Gaurav\",\n",
    "     \"Marks\":[65,75,85,90]}\n",
    "print(dict)\n",
    "#add more elements on dictionary\n",
    "dict[\"age\"]=20\n",
    "print(dict)\n",
    "#accessing elements from dictionary\n",
    "print(\"Marks in dictionary \",dict.get(\"Marks\"))\n",
    "print(\"Items in dictionary \",dict.items())\n",
    "print(\"Keys in dictionary \",dict.keys())\n",
    "print(\"Values in dictionary \",dict.values())\n",
    "#removing elements from dictionary\n",
    "dict.pop(\"id\")\n",
    "print(dict)\n",
    "#modify dictionary\n",
    "dict[\"name\"]=\"Rajat\"\n",
    "print(dict)"
   ]
  },
  {
   "cell_type": "code",
   "execution_count": 17,
   "id": "766bfd4a-aff6-48bd-ba6c-4507388a06c3",
   "metadata": {},
   "outputs": [
    {
     "name": "stdout",
     "output_type": "stream",
     "text": [
      "{1, 2, 3, 'Flow', 'Main', 'Tech'}\n",
      "{1, 2, 3, 5, 'Flow', 'Main', 'Tech'}\n",
      "{1, 2, 3, 5, 'Flow', 'Main', (4, 6), 'Tech'}\n",
      "{1, 2, 3, 5, 'Flow', 'Main', (4, 6), 'Home', 'Work', 'Tech'}\n",
      "{1, 2, 5, 'Flow', 'Main', (4, 6), 'Home', 'Work', 'Tech'}\n",
      "{1, 2, 5, 'Flow', (4, 6), 'Home', 'Work', 'Tech'}\n",
      "{2, 5, 'Flow', (4, 6), 'Home', 'Work', 'Tech'}\n",
      "{1, 2, 3, 4, 5, 6, 7}\n"
     ]
    }
   ],
   "source": [
    "#operations on set\n",
    "st=set([\"Main\",1,\"Flow\",3,\"Tech\",2,\"Flow\",3,1])\n",
    "print(st)\n",
    "#adding elemets on set\n",
    "st.add(5)\n",
    "print(st)\n",
    "st.add((4,6))\n",
    "print(st)\n",
    "st.update([\"Main\",\"Work\",\"Home\"])\n",
    "print(st)\n",
    "#removing from set\n",
    "st.remove(3)\n",
    "print(st)\n",
    "st.discard(\"Main\")\n",
    "print(st)\n",
    "st.pop()\n",
    "print(st)\n",
    "#update set\n",
    "set1=set([1,2,3,4])\n",
    "set2=set([5,6,7])\n",
    "set1.update(set2)\n",
    "print(set1)"
   ]
  },
  {
   "cell_type": "code",
   "execution_count": null,
   "id": "88e93b18-5fd8-48bd-b22a-9cc392a4dc85",
   "metadata": {},
   "outputs": [],
   "source": []
  }
 ],
 "metadata": {
  "kernelspec": {
   "display_name": "Python 3 (ipykernel)",
   "language": "python",
   "name": "python3"
  },
  "language_info": {
   "codemirror_mode": {
    "name": "ipython",
    "version": 3
   },
   "file_extension": ".py",
   "mimetype": "text/x-python",
   "name": "python",
   "nbconvert_exporter": "python",
   "pygments_lexer": "ipython3",
   "version": "3.12.4"
  }
 },
 "nbformat": 4,
 "nbformat_minor": 5
}
